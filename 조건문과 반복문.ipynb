{
 "cells": [
  {
   "cell_type": "markdown",
   "id": "bdd6ccb9-4323-47b9-bbb5-1ecaf68cdaa2",
   "metadata": {},
   "source": [
    "# **조건문과 반복문**\n",
    "\n",
    "* 데이터분석 및 모델링을 수행 시 데이터 처리 절차(흐름)을 제어해야 하는 경우 조건문과 반복문이 사용된다\n",
    "    * 조건에 따라 다르게 처리\n",
    "    * 조건에 충족될 때까지 반복 처리"
   ]
  },
  {
   "cell_type": "markdown",
   "id": "59866872-c17c-45d3-a312-4068ef00a84a",
   "metadata": {},
   "source": [
    "### Bool 연산자\n",
    "\n",
    "* bool 연산자\n",
    "    * 주어진 조건을 평가하여 참 또는 거짓의 결과를 반환하는 연산자\n",
    "    * 결과 : True / False\n",
    "* 비교 연산자(조건문)\n",
    "    * ==  같은가? \n",
    "    * !=  같지 않은가?\n",
    "    * > : 크냐? (크다 x)\n",
    "    * < : 작냐? (작다 x)\n",
    "* 논리 연산자\n",
    "    * and : 양쪽이 둘 다 참일 때만 참. \n",
    "    * or : 둘 중 하나만 참 이어도 참.\n",
    "    * not : 논리 값의 반대.\n",
    "\n",
    "& : 앰퍼센트\n",
    "| : 파이프"
   ]
  },
  {
   "cell_type": "code",
   "execution_count": 1,
   "id": "e5068c36-af61-48af-a33a-3a27701a0602",
   "metadata": {
    "tags": []
   },
   "outputs": [
    {
     "name": "stdout",
     "output_type": "stream",
     "text": [
      "False\n",
      "True\n"
     ]
    }
   ],
   "source": [
    "# 비교 연산자(조건문)\n",
    "# 'a' 와 'A' 가 같은가? -> T/F 출력\n",
    "print(('a' == 'A'))\n",
    "\n",
    "# 'a' 와 'A' 가 같지 않은가? -> T/F 출력\n",
    "print(('a' != 'A'))"
   ]
  },
  {
   "cell_type": "code",
   "execution_count": 2,
   "id": "ee348b00-c1ac-472c-bec5-adcb6a4dc4d6",
   "metadata": {
    "tags": []
   },
   "outputs": [
    {
     "name": "stdout",
     "output_type": "stream",
     "text": [
      "True\n"
     ]
    }
   ],
   "source": [
    "# 'a' 와 'A' 가 같거나, 10과 10.0 이 같은지 비교\n",
    "print(('a' == 'A') or (10 == 10.0)) #integer와 double을 구별하지 않는다"
   ]
  },
  {
   "cell_type": "code",
   "execution_count": 3,
   "id": "7cbc479f-f55f-456f-857d-0495aea6fa67",
   "metadata": {
    "tags": []
   },
   "outputs": [
    {
     "name": "stdout",
     "output_type": "stream",
     "text": [
      "False\n"
     ]
    }
   ],
   "source": [
    "# 99과 20.0이 같고, '1234'와 '일이삼사'과 같은지 비교\n",
    "print((20 == 20.0) and ('1234' == '일이삼사'))"
   ]
  },
  {
   "cell_type": "markdown",
   "id": "9dd7de4f-6d9f-4fc9-98de-439e495e3fb4",
   "metadata": {},
   "source": [
    "## **2. 조건제어(if문)**\n",
    "\n",
    "### **(1) if**\n",
    "\n",
    "if 조건문1 :  \n",
    "____코드1\n",
    "\n",
    "* 조건문1이 True이면, \n",
    "* 코드1을 실행한다(아니면, 그냥 넘어 간다)\n",
    "\n",
    "### **(2) if ~ else**\n",
    "\n",
    "if 조건문1 :  \n",
    "____코드1  \n",
    "else :  \n",
    "____코드2\n",
    "\n",
    "* 조건문1이 True이면, \n",
    "* 코드1을 실행하고 \n",
    "* 그게아니면\n",
    "* 코드2를 실행한다\n",
    "\n",
    "### **(3) if ~ elif ~ else**\n",
    "\n",
    "**if** 조건문1 :  \n",
    "____코드1  \n",
    "elif 조건문2 :    \n",
    "____코드2  \n",
    "else :  \n",
    "____코드3\n",
    "\n",
    "* 조건문1이 True이면, \n",
    "* 코드1을 실행한다\n",
    "* 아니면, 조건문2가 True이면,\n",
    "* 코드2를 실행한다\n",
    "* 아니면, 코드3 실행\n",
    "\n",
    "### **(4) switch문**\n",
    "**switch** (조건 값){ <br>\n",
    "____case 값1:<br>\n",
    "________조건 값이 값1일 때 실행하고자 하는 명령문;<br>\n",
    "________break;<br>\n",
    "____case 값2:<br>\n",
    "________조건 값이 값2일 때 실행하고자 하는 명령문;<br>\n",
    "________break;<br>\n",
    "____...<br>\n",
    "____default:<br>\n",
    "________조건 값이 어떠한 case 절에도 해당하지 않을 때 실행하고자 하는 명령문;<br>\n",
    "________break;<br>\n",
    "    }"
   ]
  },
  {
   "cell_type": "code",
   "execution_count": 4,
   "id": "ee96f22e-e5f8-44fe-9124-3ca19d117c05",
   "metadata": {
    "tags": []
   },
   "outputs": [
    {
     "name": "stdout",
     "output_type": "stream",
     "text": [
      "pass\n"
     ]
    }
   ],
   "source": [
    "# (1) if문 \n",
    "score = 100\n",
    "if (score >= 90): # 같거나 크냐? -> T/F 반환 () 빼도 된다\n",
    "    print('pass') # 코드의 블록은 : 부터 들여쓰기로 지정된다"
   ]
  },
  {
   "cell_type": "code",
   "execution_count": 5,
   "id": "ad47b6bf-ccce-4cd4-a352-82c9d09aaf62",
   "metadata": {
    "tags": []
   },
   "outputs": [
    {
     "name": "stdout",
     "output_type": "stream",
     "text": [
      "fail\n"
     ]
    }
   ],
   "source": [
    "# (2) if ~ else문 \n",
    "score = 80\n",
    "if (score >= 100):\n",
    "    print('pass')\n",
    "else :\n",
    "    print('fail')"
   ]
  },
  {
   "cell_type": "code",
   "execution_count": 6,
   "id": "0f12ea7f-c43a-446d-9998-2080c0406ed3",
   "metadata": {
    "tags": []
   },
   "outputs": [
    {
     "name": "stdout",
     "output_type": "stream",
     "text": [
      "C\n"
     ]
    }
   ],
   "source": [
    "# (3) if ~ elif ~ else문 \n",
    "score = 50\n",
    "if score >= 90 : #이게 아니므로\n",
    "    print('A')\n",
    "elif score >= 80 : # score < 90 && score >= 80\n",
    "    print('B')\n",
    "else :\n",
    "    print('C')"
   ]
  },
  {
   "cell_type": "markdown",
   "id": "3c5319f6-d788-4bc4-b336-a4b1c2ba8471",
   "metadata": {},
   "source": [
    "## **3. 반복제어**\n",
    "\n",
    "### **(1) for loop**\n",
    "\n",
    "* 문법 <br>\n",
    "for 변수 in range() :  \n",
    "    ____코드\n",
    "\n",
    "    range(100) -> 이면 0부터 100전까지\n",
    "\n",
    "* 실행 절차\n",
    "    1. 변수 in range() : 데이터 목록(여기서는 range()의 결과)으로 부터 값을 하나씩 꺼내서 변수 i에 담아\n",
    "    2. 코드를 실행하고\n",
    "    3. 1~2를 반복 (데이터 목록의 다음 값을 변수에 담고 코드실행) \n",
    "    \n",
    "* 반복문 종료 조건\n",
    "    * 데이터 목록 첫번째 값부터, 마지막까지 반복한 후에 종료\n",
    "    * 반복문 안에서 break 구문을 만나면 종료\n",
    "    "
   ]
  },
  {
   "cell_type": "code",
   "execution_count": 7,
   "id": "30640ee4-cd5f-437a-8b91-912b5450f8d7",
   "metadata": {
    "tags": []
   },
   "outputs": [
    {
     "name": "stdout",
     "output_type": "stream",
     "text": [
      "0\n",
      "1\n",
      "2\n",
      "3\n",
      "4\n"
     ]
    }
   ],
   "source": [
    "for i in range(5) : # 0부터 4까지의 데이터가 한꺼번에 실행된다\n",
    "    print(i)"
   ]
  },
  {
   "cell_type": "code",
   "execution_count": 8,
   "id": "7c47210b-b9aa-4254-855c-8293501b4232",
   "metadata": {
    "tags": []
   },
   "outputs": [
    {
     "name": "stdout",
     "output_type": "stream",
     "text": [
      "0\n",
      "11\n",
      "22\n",
      "33\n",
      "44\n"
     ]
    }
   ],
   "source": [
    "for i in [0,11,22,33,44] :\n",
    "    print(i)"
   ]
  },
  {
   "cell_type": "markdown",
   "id": "c5b9eb3b-dabe-42ce-b1af-0e8c8cc8e7f3",
   "metadata": {},
   "source": [
    "- 코드를 n번 반복시킬때"
   ]
  },
  {
   "cell_type": "code",
   "execution_count": 9,
   "id": "a8b20618-5765-4b0e-bc1f-09429f133374",
   "metadata": {
    "tags": []
   },
   "outputs": [
    {
     "name": "stdout",
     "output_type": "stream",
     "text": [
      "99\n",
      "50\n",
      "5\n",
      "40\n",
      "0\n",
      "13\n",
      "94\n",
      "19\n",
      "93\n",
      "50\n"
     ]
    }
   ],
   "source": [
    "import random\n",
    "# 복원추출 : 중복 허용해서 뽑기\n",
    "# 비복원추출 : 중복허용하지 않고 뽑기\n",
    "n = 10\n",
    "for i in range(n) : \n",
    "    rdnum = random.randint(0, 100)  # 0~100 사이 정수 중 랜덤으로 추출\n",
    "    print(rdnum)"
   ]
  },
  {
   "cell_type": "markdown",
   "id": "09eeb5ad-4102-4ee6-abf8-5e3fe450f0e4",
   "metadata": {},
   "source": [
    "### **(2) while loop**\n",
    "\n",
    "* 문법\n",
    "While 조건문 :  \n",
    "____코드  \n",
    "____조건변경문\n",
    "\n",
    "* 실행 절차\n",
    "    1. 조건문이 참이면,\n",
    "    2. 코드를 실행하고\n",
    "    3. 조건을 변경한 후, \n",
    "    4. 1 ~ 3 반복 실행\n",
    "\n",
    "* 반복문 종료 조건\n",
    "    * 1 조건문이 참이 아니면 반복문 종료\n",
    "    * 반복문 안에서 break 구문을 만나면 종료"
   ]
  },
  {
   "cell_type": "code",
   "execution_count": 10,
   "id": "139e59a0-af01-4cd1-8f6b-d59552cdd842",
   "metadata": {},
   "outputs": [
    {
     "name": "stdout",
     "output_type": "stream",
     "text": [
      "0\n",
      "1\n",
      "2\n",
      "3\n",
      "4\n",
      "5\n",
      "6\n",
      "7\n",
      "8\n",
      "9\n",
      "10\n",
      "비밀번호를 입력하세요password\n",
      "로그인 되었습니다\n"
     ]
    }
   ],
   "source": [
    "# 0에서 10까지 1씩 증가시켜가면서 값을 출력\n",
    "i = 0\n",
    "\n",
    "while i <= 10 :\n",
    "    print(i)\n",
    "    i += 1\n",
    "    \n",
    "while True :\n",
    "    a = input('비밀번호를 입력하세요')\n",
    "    if a == 'password' :\n",
    "        print('로그인 되었습니다')\n",
    "        break"
   ]
  }
 ],
 "metadata": {
  "kernelspec": {
   "display_name": "Python 3 (ipykernel)",
   "language": "python",
   "name": "python3"
  },
  "language_info": {
   "codemirror_mode": {
    "name": "ipython",
    "version": 3
   },
   "file_extension": ".py",
   "mimetype": "text/x-python",
   "name": "python",
   "nbconvert_exporter": "python",
   "pygments_lexer": "ipython3",
   "version": "3.10.9"
  }
 },
 "nbformat": 4,
 "nbformat_minor": 5
}
