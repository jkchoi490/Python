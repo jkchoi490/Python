{
 "cells": [
  {
   "cell_type": "markdown",
   "id": "1d8ca76a-e10b-4110-ac6f-5fd6589c1b26",
   "metadata": {},
   "source": [
    "# **자료형(List, Dictionary, Tuple)**"
   ]
  },
  {
   "cell_type": "markdown",
   "id": "376e8e41-d885-4b5c-8c53-91bd00022855",
   "metadata": {},
   "source": [
    "## **1.리스트(list)**\n",
    "![](data:image/png;base64,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)"
   ]
  },
  {
   "cell_type": "markdown",
   "id": "154d492c-961e-43b8-919f-9ea8ae3d998a",
   "metadata": {
    "tags": []
   },
   "source": [
    "#### (1) 리스트 생성하기\n",
    "\n",
    "대괄호 [] 로 선언한다"
   ]
  },
  {
   "cell_type": "code",
   "execution_count": 2,
   "id": "de185f77-7ebc-4dfa-adb8-51c3f56f82f9",
   "metadata": {
    "tags": []
   },
   "outputs": [
    {
     "name": "stdout",
     "output_type": "stream",
     "text": [
      "[1, 2, 3, 4, 5]\n",
      "['a', 'b', 'c', 'd', 'e']\n"
     ]
    },
    {
     "data": {
      "text/plain": [
       "list"
      ]
     },
     "execution_count": 2,
     "metadata": {},
     "output_type": "execute_result"
    }
   ],
   "source": [
    "# 리스트 생성하기\n",
    "list_1 = [ 1, 2, 3, 4, 5 ] # = 의 의미 : 오른쪽 값을 왼쪽에 저장\n",
    "list_2 = ['a','b','c','d','e']\n",
    "\n",
    "# 전체 조회\n",
    "print(list_1) # 결과를 화면에 출력\n",
    "print(list_2)\n",
    "\n",
    "# 데이터 타입 확인하기\n",
    "type(list_1)"
   ]
  },
  {
   "cell_type": "markdown",
   "id": "8c95f8d2-e3dc-4d86-ac69-3cd0eab1d7c0",
   "metadata": {},
   "source": [
    "#### (2) 실행 순서\n",
    "    - 여러 개 리스트를 작성했을 때, 맨 마지막 리스트만 실행된다\n",
    "    - print문\n",
    "        * 코드셀 안에서 화면에 결과를 출력하기 위해서 사용한다\n",
    "        * 출력할 결과가 1개이면 생략이 가능하지만 여러 개이면 반드시 print문을 사용해야 한다\n",
    "        * display()로 대체가능하다"
   ]
  },
  {
   "cell_type": "code",
   "execution_count": 3,
   "id": "0078448d-f0cc-4de6-8db2-7d9a46773c12",
   "metadata": {
    "tags": []
   },
   "outputs": [
    {
     "data": {
      "text/plain": [
       "['a', 'b', 'c', 'd', 'e']"
      ]
     },
     "execution_count": 3,
     "metadata": {},
     "output_type": "execute_result"
    }
   ],
   "source": [
    "list_1\n",
    "list_2"
   ]
  },
  {
   "cell_type": "markdown",
   "id": "013c913e-4a4e-4b56-817c-3ccaacbb2a4d",
   "metadata": {},
   "source": [
    "#### (3) range 함수\n",
    "    * 순차 증가값(등차행렬)으로 리스트 생성시 사용된다\n",
    "* 문법 : range(시작값, 끝값, 증가값)\n",
    "    * 시작값 생략 : 0부터 시작\n",
    "    * 증가값 생략 : 1씩 증가\n",
    "    * 끝값은 포함되지 않고 이전까지 포함된다"
   ]
  },
  {
   "cell_type": "code",
   "execution_count": 4,
   "id": "6cab309b-3269-4101-80d6-97b6727800dd",
   "metadata": {
    "tags": []
   },
   "outputs": [
    {
     "data": {
      "text/plain": [
       "range(0, 30, 2)"
      ]
     },
     "execution_count": 4,
     "metadata": {},
     "output_type": "execute_result"
    }
   ],
   "source": [
    "# 0부터 28까지, 2씩 증가하는 값으로 리스트 생성 \n",
    "range(0, 30, 2) # 1부터 30전까지 2씩 값들이 증가한다"
   ]
  },
  {
   "cell_type": "code",
   "execution_count": 5,
   "id": "0cf119af-31d6-40f1-a5dd-fb7e1dcb456f",
   "metadata": {
    "tags": []
   },
   "outputs": [
    {
     "data": {
      "text/plain": [
       "[0, 2, 4, 6, 8, 10, 12, 14, 16, 18, 20, 22, 24, 26, 28]"
      ]
     },
     "execution_count": 5,
     "metadata": {},
     "output_type": "execute_result"
    }
   ],
   "source": [
    "list(range(0, 30, 2))"
   ]
  },
  {
   "cell_type": "markdown",
   "id": "8ad1c76d-1872-496a-b495-67f47d717c2a",
   "metadata": {},
   "source": [
    "#### (4) 리스트 안의 리스트\n",
    "\n",
    "* 리스트 안에 리스트를 포함시킬 수 있다\n",
    "    * 1차원 리스트 안에 1차원 리스트를 포함시켜서, 2차원 리스트를 생성할 수 있다"
   ]
  },
  {
   "cell_type": "code",
   "execution_count": 6,
   "id": "3d9eaed0-05ff-4a42-ba7b-65f4332d5ed3",
   "metadata": {
    "tags": []
   },
   "outputs": [
    {
     "name": "stdout",
     "output_type": "stream",
     "text": [
      "[[1, 2, 3], 4, 5]\n"
     ]
    }
   ],
   "source": [
    "list_a = [1, 2, 3]\n",
    "list_b = [list_a, 4, 5]\n",
    "print(list_b)"
   ]
  },
  {
   "cell_type": "markdown",
   "id": "693249e8-353f-4962-ad72-6d8db9510976",
   "metadata": {},
   "source": [
    "### **(2) 리스트 조회**\n",
    "\n",
    "####  1) 인덱스 값으로 조회\n",
    "* 인덱스 : 0부터 시작한다\n",
    "* 인덱스의 끝에서부터 셀 때 : -1, -2, -3, ..."
   ]
  },
  {
   "cell_type": "code",
   "execution_count": 7,
   "id": "82e6ea93-365a-4326-8539-ff6d27f92762",
   "metadata": {
    "tags": []
   },
   "outputs": [
    {
     "name": "stdout",
     "output_type": "stream",
     "text": [
      "1 3\n",
      "5 4\n"
     ]
    }
   ],
   "source": [
    "a = [1, 2, 3, 4, 5]\n",
    "print(a[0], a[2])\n",
    "print(a[-1], a[-2])"
   ]
  },
  {
   "cell_type": "markdown",
   "id": "713e25c4-cdc7-4b2c-b89b-8e5490a30425",
   "metadata": {},
   "source": [
    "#### 2) 인덱스 범위 조회(슬라이싱)\n",
    "* 리스트[시작인덱스:끝인덱스] \n",
    "* 범위: 시작<=    <끝\n",
    "    * 시작인덱스 부터 끝 인덱스 전까지\n",
    "    * 시작인덱스 생략 : 처음부터\n",
    "    * 끝인덱스 생략: 끝까지"
   ]
  },
  {
   "cell_type": "code",
   "execution_count": 8,
   "id": "0d59df14-5719-459d-8787-54398bbe506b",
   "metadata": {
    "tags": []
   },
   "outputs": [
    {
     "name": "stdout",
     "output_type": "stream",
     "text": [
      "[11, 33, 55, 77]\n",
      "[11, 33, 55, 77]\n"
     ]
    }
   ],
   "source": [
    "a = [11, 33, 55, 77, 99] \n",
    "print(a[0:4])\n",
    "# 또는\n",
    "print(a[:4]) # 처음부터 4 전까지"
   ]
  },
  {
   "cell_type": "code",
   "execution_count": 9,
   "id": "34f5fba9-291a-460e-9d94-d55fc5b8bbd7",
   "metadata": {
    "tags": []
   },
   "outputs": [
    {
     "name": "stdout",
     "output_type": "stream",
     "text": [
      "[33, 55, 77, 99]\n",
      "[33, 55, 77, 99]\n",
      "[33, 55, 77, 99]\n"
     ]
    }
   ],
   "source": [
    "print(a[1:5]) # 1에서 4까지\n",
    "print(a[1:])  # 1부터 끝까지\n",
    "print(a[-4:]) # -4부터 끝까지"
   ]
  },
  {
   "cell_type": "markdown",
   "id": "486531a6-76d8-4a81-b179-105e4108d7f3",
   "metadata": {},
   "source": [
    "#### 3) 리스트 수정\n",
    "* 값 추가\n",
    "    * append 메서드 : .append()\n",
    "    * 리스트 + [추가할 값] : 리스트1 + 리스트2 = 합쳐진 리스트 : 리스트끼리 더하면 하나로 붙이게 된다\n",
    "    * insert 메서드 : 리스트.insert(인덱스, 값)\n",
    "    \n",
    "* 값 수정\n",
    "    * 인덱스로 해당 값을 조회하고 그 자리에 수정한다\n",
    "    * 리스트[인덱스] = 새 값 => a[2] = 34\n",
    "    \n",
    "* 값 삭제\n",
    "    * 인덱스로 조회한 대상을 삭제 : del a[2]\n",
    "    * 특정 값을 찾아서 삭제 : 리스트.remove(값)\n",
    "* 리스트에서 자주 사용하는 메서드\n",
    "    * len(리스트) : 리스트의 크기 구하기\n",
    "    * sum(리스트) : 리스트 값들의 합 구하기\n",
    "    * 리스트.sort() : 리스트 정렬하기"
   ]
  },
  {
   "cell_type": "code",
   "execution_count": 10,
   "id": "527598bd-2b61-4693-9d93-02d29183af66",
   "metadata": {
    "tags": []
   },
   "outputs": [
    {
     "name": "stdout",
     "output_type": "stream",
     "text": [
      "[100, 1, 2, 3, 4, 5, 99]\n"
     ]
    }
   ],
   "source": [
    "a = [1, 2, 3, 4, 5]\n",
    "\n",
    "a.append(99) #리스트 a에 99 추가하기\n",
    "a.insert(0, 100) #리스트 a의 0번째 인덱스에 100 추가하기\n",
    "print(a)"
   ]
  },
  {
   "cell_type": "code",
   "execution_count": 11,
   "id": "52409432-abd2-4723-9590-a7b478cf274d",
   "metadata": {
    "tags": []
   },
   "outputs": [
    {
     "name": "stdout",
     "output_type": "stream",
     "text": [
      "[1, 2, 3, 4, 5, 99]\n"
     ]
    }
   ],
   "source": [
    "a = [1, 2, 3, 4, 5]\n",
    "\n",
    "#리스트 + 리스트 = 리스트에 리스트를 붙이기\n",
    "a = a + [99]\n",
    "print(a)"
   ]
  },
  {
   "cell_type": "code",
   "execution_count": 12,
   "id": "0c3aaa90-db80-4a12-94da-c3923b48a7f5",
   "metadata": {
    "tags": []
   },
   "outputs": [
    {
     "name": "stdout",
     "output_type": "stream",
     "text": [
      "[2, 3, 4]\n"
     ]
    }
   ],
   "source": [
    "a = [1, 2, 3, 4, 5]\n",
    "\n",
    "del a[0] # 0번째 값 삭제하기\n",
    "a.remove(5) # 값 5 삭제\n",
    "print(a)"
   ]
  },
  {
   "cell_type": "markdown",
   "id": "2657a19e-71e7-44e9-9582-687d3b878f34",
   "metadata": {},
   "source": [
    "## **2. 딕셔너리(dictionary)**\n",
    "![](https://wikidocs.net/images/page/16/02_5_baseball.png)\n",
    "\n",
    "* 하나의 딕셔너리 안에 다양한 형태의 여러 값들을 저장한다\n",
    "* 여러 자료형들의 묶음"
   ]
  },
  {
   "cell_type": "markdown",
   "id": "a57237c7-7285-4bdb-922c-164a6ae6305f",
   "metadata": {},
   "source": [
    "### **(1) 생성**\n",
    "\n",
    "* 중괄호 {} 안에 , key : value 형태로 선언\n",
    "    * Key : Value 변수의 이름\n",
    "    * Value : 다양한 형태의 변수\n",
    "    \n",
    "* 딕셔너리 정보 조회\n",
    "    * .keys() : 딕셔너리의 key만 조회\n",
    "    * .values() : 딕셔너리의 값만 조회\n",
    "    * .items() : key와 값을 쌍(tuple)으로 조회\n",
    "\n",
    "### **(2) 조회**\n",
    "\n",
    "* 조회시 키로 값을 조회\n",
    "    * 딕셔너리[키]\n",
    "    \n",
    "### **(3) 수정**\n",
    "* 수정시 키로 값을 수정\n",
    "    * 딕셔너리[키] = 값\n",
    "    \n",
    "### **(3) 삭제**\n",
    "* 삭제시 del 을 이용하여 삭제\n",
    "    * del 딕셔너리[키]"
   ]
  },
  {
   "cell_type": "code",
   "execution_count": 13,
   "id": "e4fc4bd6-35be-412e-a1bd-63fc9c1e0ec5",
   "metadata": {
    "tags": []
   },
   "outputs": [
    {
     "name": "stdout",
     "output_type": "stream",
     "text": [
      "1 2 3\n"
     ]
    }
   ],
   "source": [
    "# (4) 리스트, 딕셔너리로 부터 값 할당하기** \n",
    "a = [1, 2, 3]\n",
    "\n",
    "a1, a2, a3 = a\n",
    "print(a1, a2, a3)"
   ]
  },
  {
   "cell_type": "code",
   "execution_count": 14,
   "id": "e64e814b-8aa4-4450-a00a-395cb3d69f81",
   "metadata": {
    "tags": []
   },
   "outputs": [
    {
     "name": "stdout",
     "output_type": "stream",
     "text": [
      "{'value1': 32, 'list1': [1, 2, 3], 'dict1': {'a': 1, 'b': 2}}\n"
     ]
    }
   ],
   "source": [
    "dict_a = { 'value1' : 32,\n",
    "           'list1' : [1, 2, 3],\n",
    "           'dict1' : {'a' : 1, 'b' : 2} }\n",
    "print(dict_a)"
   ]
  },
  {
   "cell_type": "code",
   "execution_count": 15,
   "id": "ab2e2aee-b4cb-4ae5-81eb-67253e61ccb4",
   "metadata": {
    "tags": []
   },
   "outputs": [
    {
     "data": {
      "text/plain": [
       "dict_keys(['value1', 'list1', 'dict1'])"
      ]
     },
     "execution_count": 15,
     "metadata": {},
     "output_type": "execute_result"
    }
   ],
   "source": [
    "dict_a.keys() # key만 조회"
   ]
  },
  {
   "cell_type": "code",
   "execution_count": 16,
   "id": "40891820-3b78-43e8-bb9d-af44304757eb",
   "metadata": {
    "tags": []
   },
   "outputs": [
    {
     "data": {
      "text/plain": [
       "dict_values([32, [1, 2, 3], {'a': 1, 'b': 2}])"
      ]
     },
     "execution_count": 16,
     "metadata": {},
     "output_type": "execute_result"
    }
   ],
   "source": [
    "dict_a.values() # value만 조회"
   ]
  },
  {
   "cell_type": "code",
   "execution_count": 17,
   "id": "a093d80b-f0d1-4dd8-bdbd-f549d61c5a8f",
   "metadata": {
    "tags": []
   },
   "outputs": [
    {
     "data": {
      "text/plain": [
       "dict_items([('value1', 32), ('list1', [1, 2, 3]), ('dict1', {'a': 1, 'b': 2})])"
      ]
     },
     "execution_count": 17,
     "metadata": {},
     "output_type": "execute_result"
    }
   ],
   "source": [
    "dict_a.items() # () : 튜플 -> 소괄호로 표현 x,y축 처럼 각각의 축에 해당되는 값들을 묶은 것"
   ]
  },
  {
   "cell_type": "code",
   "execution_count": 18,
   "id": "4963c5d4-2bee-4948-979e-0f100cf3a7c3",
   "metadata": {
    "tags": []
   },
   "outputs": [],
   "source": [
    "# '' \"\" -> String형\n",
    "dict_a = { 'value1': 32, 'list1': [1,2,3], 'dict1': {'a':1, 'b':2}}"
   ]
  },
  {
   "cell_type": "code",
   "execution_count": 19,
   "id": "3a8c1a91-148f-451d-a1f8-bb950da8bf21",
   "metadata": {
    "tags": []
   },
   "outputs": [
    {
     "name": "stdout",
     "output_type": "stream",
     "text": [
      "32\n"
     ]
    }
   ],
   "source": [
    "print( dict_a['value1'])"
   ]
  },
  {
   "cell_type": "code",
   "execution_count": 20,
   "id": "7516528b-651c-4945-b173-d73bb4f2fae1",
   "metadata": {
    "tags": []
   },
   "outputs": [
    {
     "name": "stdout",
     "output_type": "stream",
     "text": [
      "[1, 2, 3]\n",
      "[1, 2]\n"
     ]
    }
   ],
   "source": [
    "print( dict_a['list1'])\n",
    "print( dict_a['list1'][:2]) # 리스트 list1안에서, 처음부터 2번 인덱스 0부터 2전까지"
   ]
  },
  {
   "cell_type": "code",
   "execution_count": 21,
   "id": "57499ad5-da60-4281-99ef-a6fdf4dbd56a",
   "metadata": {
    "tags": []
   },
   "outputs": [
    {
     "name": "stdout",
     "output_type": "stream",
     "text": [
      "{'a': 1, 'b': 2}\n",
      "1\n"
     ]
    }
   ],
   "source": [
    "print( dict_a['dict1'])\n",
    "print( dict_a['dict1']['a'])"
   ]
  },
  {
   "cell_type": "code",
   "execution_count": 22,
   "id": "1d3b0747-76cd-4836-806c-3cd06d02eb8c",
   "metadata": {
    "tags": []
   },
   "outputs": [
    {
     "name": "stdout",
     "output_type": "stream",
     "text": [
      "사자 호랑이 표범\n"
     ]
    }
   ],
   "source": [
    "animals = ['사자', '호랑이', '표범']\n",
    "a1, a2, a3 = animals\n",
    "print(a1, a2,a3)"
   ]
  },
  {
   "cell_type": "code",
   "execution_count": 23,
   "id": "99ab1f6c-0e50-483e-a9db-91d06834525c",
   "metadata": {
    "tags": []
   },
   "outputs": [
    {
     "data": {
      "text/plain": [
       "{'v1': 99, 'l1': [1, 2, 3], 'd1': {'a': 456, 'b': 678}}"
      ]
     },
     "execution_count": 23,
     "metadata": {},
     "output_type": "execute_result"
    }
   ],
   "source": [
    "dict_a = { 'v1': 99, 'l1': [1,2,3], 'd1': {'a':456, 'b':678}}\n",
    "dict_a"
   ]
  },
  {
   "cell_type": "code",
   "execution_count": 24,
   "id": "d7e5cc69-a655-461b-8d1d-c575a41ad9ec",
   "metadata": {
    "tags": []
   },
   "outputs": [
    {
     "name": "stdout",
     "output_type": "stream",
     "text": [
      "{'v1': 99, 'l1': [1, 2, 3], 'd1': {'a': 456, 'b': 678}, 'v2': 500}\n"
     ]
    }
   ],
   "source": [
    "# 추가\n",
    "dict_a['v2'] = 500\n",
    "print(dict_a)"
   ]
  },
  {
   "cell_type": "code",
   "execution_count": 25,
   "id": "ffb41366-fc5f-4666-a96c-9ef4f8b776e1",
   "metadata": {
    "tags": []
   },
   "outputs": [
    {
     "name": "stdout",
     "output_type": "stream",
     "text": [
      "{'v1': 99, 'l1': [1, 2, 3], 'd1': {'a': 456, 'b': 678}, 'v2': 1000}\n"
     ]
    }
   ],
   "source": [
    "# 수정\n",
    "dict_a['v2'] = 1000\n",
    "print(dict_a)"
   ]
  },
  {
   "cell_type": "code",
   "execution_count": 26,
   "id": "e0e4b71f-26d3-4cbc-98e5-8799532cc4d9",
   "metadata": {
    "tags": []
   },
   "outputs": [
    {
     "name": "stdout",
     "output_type": "stream",
     "text": [
      "{'v1': 99, 'l1': [1, 2, 3], 'd1': {'a': 456, 'b': 678}}\n"
     ]
    }
   ],
   "source": [
    "# 삭제\n",
    "del dict_a['v2']\n",
    "print(dict_a)"
   ]
  },
  {
   "cell_type": "markdown",
   "id": "e45eaab3-a479-4d61-811a-b0bb8f09fbe5",
   "metadata": {},
   "source": [
    "## **3.튜플(tuple)**\n",
    "\n",
    "![](https://pythonexamples.org/images/python-tuple-access.svg)\n",
    "* 튜플은 좌표, 순서쌍을 담는 자료형\n",
    "* 분석, 예측 단위"
   ]
  },
  {
   "cell_type": "code",
   "execution_count": 27,
   "id": "e17bd584-d954-468e-8e05-141733aad14f",
   "metadata": {
    "tags": []
   },
   "outputs": [
    {
     "data": {
      "text/plain": [
       "(55, 100)"
      ]
     },
     "execution_count": 27,
     "metadata": {},
     "output_type": "execute_result"
    }
   ],
   "source": [
    "# 소괄호로 선언한다\n",
    "t = (55,100)\n",
    "t"
   ]
  },
  {
   "cell_type": "code",
   "execution_count": 28,
   "id": "bf1f66c5-91c7-459a-8166-ae194cbe88b5",
   "metadata": {
    "tags": []
   },
   "outputs": [
    {
     "name": "stdout",
     "output_type": "stream",
     "text": [
      "55\n",
      "100\n"
     ]
    }
   ],
   "source": [
    "# 인덱스로 조회 한다\n",
    "print(t[0])\n",
    "print(t[1])"
   ]
  }
 ],
 "metadata": {
  "kernelspec": {
   "display_name": "Python 3 (ipykernel)",
   "language": "python",
   "name": "python3"
  },
  "language_info": {
   "codemirror_mode": {
    "name": "ipython",
    "version": 3
   },
   "file_extension": ".py",
   "mimetype": "text/x-python",
   "name": "python",
   "nbconvert_exporter": "python",
   "pygments_lexer": "ipython3",
   "version": "3.10.9"
  }
 },
 "nbformat": 4,
 "nbformat_minor": 5
}
