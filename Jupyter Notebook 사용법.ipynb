{
 "cells": [
  {
   "cell_type": "markdown",
   "id": "4e909d48-510f-40de-8dfb-617b2b93e736",
   "metadata": {},
   "source": [
    "Jupyter Notebook"
   ]
  },
  {
   "cell_type": "markdown",
   "id": "ed00bb80-88d2-45b0-9e1f-98280ec76c0b",
   "metadata": {},
   "source": [
    "1. 셀을 실행하는 방법들\n",
    "* Alt + Enter : 실행이되고 다음으로 넘어가서 코드셀이 하나 생김\n",
    "* Ctrl + Enter : 그 줄이 실행되고 멈춤\n",
    "* Shift + Enter : 그 줄이 실행되고 넘어감"
   ]
  },
  {
   "cell_type": "markdown",
   "id": "a9f1f76b-1734-4843-a5fc-3543b5fbbd89",
   "metadata": {
    "tags": []
   },
   "source": [
    "2. 셀 종류\n",
    "* 코드셀 : 실제 코드를 작성하고 실행한다\n",
    "* 마크다운 셀(텍스트 셀) : 설명문 등을 작성한다\n",
    "\n",
    "3. 셀 생성, 삭제, 전환\n",
    "\n",
    "* 셀 생성\n",
    "    - 선택된 셀 기준으로 위에 셀 생성 : a\n",
    "    - 선택된 셀 기준으로 아래에 셀 생성 : b\n",
    "\n",
    "* 셀 삭제 : dd\n",
    "\n",
    "* 셀 전환\n",
    "    - 마크다운으로 전환하기 : m\n",
    "    - 코드셀로 전환하기 : y\n",
    "\n"
   ]
  },
  {
   "cell_type": "markdown",
   "id": "77bd1bc1-a5fb-49c5-9b88-72f9da2e9804",
   "metadata": {},
   "source": [
    "## 4. 마크다운 셀(텍스트셀)\n",
    "\n",
    "# 제목1\n",
    "## 제목2\n",
    "### 제목3"
   ]
  },
  {
   "cell_type": "markdown",
   "id": "ef516218-a13a-41dc-8006-cace39aee97a",
   "metadata": {},
   "source": [
    "* abcd\n",
    "* efgh\n",
    "    * 가나다라\n",
    "    * 마바사아"
   ]
  },
  {
   "cell_type": "markdown",
   "id": "d760f117-5e4c-4abe-ad21-b2c41da12ef1",
   "metadata": {},
   "source": [
    "왼쪽 바 그려주기 : > 옆에 글쓰기\n",
    "> 왼쪽 바"
   ]
  },
  {
   "cell_type": "markdown",
   "id": "6bfc6269-e2ed-462f-99d4-8944c53631c5",
   "metadata": {},
   "source": [
    "### 링크, 이미지 삽입\n",
    "[] 안에 링크에 대한 설명을 적고 ()안에 주소를 적는다\n",
    "[링크를 눌러보세요](https://google.com)\n",
    "\n",
    "!을 붙여주고 []안에 이미지 파일 이름을 적고 (파일경로.확장자명)을 적는다\n",
    "![image.png](attachment:0ed5cbf7-62e2-45d9-a4d6-3b869fa34997.png)"
   ]
  },
  {
   "cell_type": "markdown",
   "id": "8fd09b83-1e28-469a-bc6e-bc7e92087b77",
   "metadata": {},
   "source": [
    "## 5. 코드 셀"
   ]
  },
  {
   "cell_type": "markdown",
   "id": "1a4104f8-a7eb-47b0-8bf0-f4c40d41a0c6",
   "metadata": {
    "tags": []
   },
   "source": [
    "1. 여러줄 주석처리하기 <br>\n",
    "Ctrl + /\n",
    "\n",
    "2. 코드라인 번호수 생기게 하기 <br>\n",
    "shift+l"
   ]
  },
  {
   "cell_type": "markdown",
   "id": "eb37eb3a-0297-49ca-a969-1115da58a5ad",
   "metadata": {},
   "source": [
    "## 6. 저장\n",
    "1) jupyter notebook 파일 저장하기\n",
    "    - Ctrl+s"
   ]
  },
  {
   "cell_type": "markdown",
   "id": "b615da6a-4e84-44ef-beb8-845ef191da63",
   "metadata": {
    "tags": []
   },
   "source": [
    "2) 현재 폴더(Directory)의 파일 리스트 보기 : ls"
   ]
  },
  {
   "cell_type": "code",
   "execution_count": 6,
   "id": "36b82865-c39c-46ad-acf0-79fb4da0762a",
   "metadata": {
    "tags": []
   },
   "outputs": [
    {
     "name": "stdout",
     "output_type": "stream",
     "text": [
      " C 드라이브의 볼륨: 로컬 디스크\n",
      " 볼륨 일련 번호: 16C9-D095\n",
      "\n",
      " C:\\PythonStudy 디렉터리\n",
      "\n",
      "2023-08-19  오후 04:25    <DIR>          .\n",
      "2023-08-19  오후 04:25    <DIR>          ..\n",
      "2023-08-19  오후 04:25    <DIR>          .ipynb_checkpoints\n",
      "2023-08-19  오후 04:25             6,216 Jupyter Notebook 사용법.ipynb\n",
      "               1개 파일               6,216 바이트\n",
      "               3개 디렉터리  44,299,083,776 바이트 남음\n"
     ]
    }
   ],
   "source": [
    "ls"
   ]
  },
  {
   "cell_type": "markdown",
   "id": "3b1e7d06-7010-4222-be22-76fb66615840",
   "metadata": {
    "tags": []
   },
   "source": [
    "## 코드셀을 python 파일로 저장하고 불러오기"
   ]
  },
  {
   "cell_type": "markdown",
   "id": "b2364b37-e6e7-477e-8287-a149c6df12b3",
   "metadata": {},
   "source": [
    "print(\"abcd\")라는 코드를 python파일이름이라는 파일에 저장한다"
   ]
  },
  {
   "cell_type": "code",
   "execution_count": 7,
   "id": "7c76f542-6de2-40d4-b03f-0d5b7736d1e8",
   "metadata": {
    "tags": []
   },
   "outputs": [
    {
     "name": "stdout",
     "output_type": "stream",
     "text": [
      "Writing python파일이름.py\n"
     ]
    }
   ],
   "source": [
    "%%writefile python파일이름.py\n",
    "print(\"abcd\")"
   ]
  },
  {
   "cell_type": "markdown",
   "id": "81eec268-1df5-48b6-b55d-c494b59ec7c8",
   "metadata": {},
   "source": [
    "python파일이름.py을 실행한다"
   ]
  },
  {
   "cell_type": "code",
   "execution_count": 8,
   "id": "2c0d466c-e109-41b8-b26f-88d73778e3d1",
   "metadata": {
    "tags": []
   },
   "outputs": [
    {
     "name": "stdout",
     "output_type": "stream",
     "text": [
      "abcd\n"
     ]
    }
   ],
   "source": [
    "%run python파일이름.py"
   ]
  },
  {
   "cell_type": "markdown",
   "id": "beffced9-d18c-4241-b182-916d77421bbb",
   "metadata": {},
   "source": [
    "python파일이름.py의 코드를 불러온다 : %load python파일이름.py"
   ]
  },
  {
   "cell_type": "code",
   "execution_count": null,
   "id": "8bab4949-8bab-49b5-acb2-6f68f0681e1b",
   "metadata": {
    "tags": []
   },
   "outputs": [],
   "source": [
    "# %load python파일이름.py\n",
    "print(\"abcd\")\n"
   ]
  },
  {
   "cell_type": "code",
   "execution_count": null,
   "id": "f13dbcb5",
   "metadata": {},
   "outputs": [],
   "source": []
  }
 ],
 "metadata": {
  "kernelspec": {
   "display_name": "Python 3 (ipykernel)",
   "language": "python",
   "name": "python3"
  },
  "language_info": {
   "codemirror_mode": {
    "name": "ipython",
    "version": 3
   },
   "file_extension": ".py",
   "mimetype": "text/x-python",
   "name": "python",
   "nbconvert_exporter": "python",
   "pygments_lexer": "ipython3",
   "version": "3.10.9"
  }
 },
 "nbformat": 4,
 "nbformat_minor": 5
}
