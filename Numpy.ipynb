{
 "cells": [
  {
   "cell_type": "markdown",
   "id": "f263e3a9-03ad-4552-82bb-80e54d04efdc",
   "metadata": {},
   "source": [
    "# 넘파이(Numpy)\n",
    "\n",
    "![](data:image/png;base64,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)\n",
    "#### **1. 라이브러리 불러오기**\n",
    "import numpy as np\n",
    "\n",
    "#### **2. Numpy 배열 생성**\n",
    "**(1) 용어**\n",
    "- axis: 배열의 각 축\n",
    "- rank: 축의 개수\n",
    "- shape: 축의 길이, 배열의 크기\n",
    "\n",
    "  \n",
    "**[5 x 6 배열의 경우]**\n",
    "- axis 0 과 axis 1 을 갖는 2차원 배열\n",
    "- rank 2 array \n",
    "- shape는 (5, 6)\n",
    "\n",
    "**(2) 배열 만들기**\n",
    "- np.array()함수 사용\n",
    "- 대부분 리스트로부터 배열을 만들거나, 머신러닝 관련 함수 결과값이 배열이 된다\n",
    "\n",
    "**(3) 배열 정보 확인**\n",
    "- **.ndim** -> 배열 차원 확인\n",
    "- **.shape** -> 형태(크기) 확인\n",
    "    - 1차원: (x, )\n",
    "    - 2차원: (x, y)\n",
    "    - 3차원: (x, y, z) -> 튜플로 표시된다\n",
    "- 앞에서 부터 axis 0, axis 1, axis 2의 크기를 의미\n",
    "    \n",
    "**(4) 요소 자료형 확인**\n",
    "- .dtype -> 배열에 포함된 요소들의 자료형 확인\n",
    "- 배열은 한 가지 자료형만 가질 수 있음\n",
    "\n",
    "**(5) Reshape**\n",
    "- 배열에 포함된 요소가 사라지지 않는 형태라면 자유롭게 변환할 수 있음\n",
    "- (3, 4) → (2, 6) → (4, 3) → (12, 1) → (6, 2) 등등 요소 개수만 변하지 않으면 변환할 수 있음\n",
    "- (2,3) -> (3,2)\n",
    "- (2,3) -> (6,) 등 2차원에서 1차원으로 변환할 수 있음\n",
    "- (m, -1) 또는 (-1, n)처럼 사용하여 행 또는 열 크기 한 쪽만 지정할 수 있음\n",
    "\n",
    "**(6) 배열 인덱싱과 슬라이싱** <br>\n",
    "**(6)-1. 인덱싱**\n",
    "- 특정 위치의 요소를 조회 : 배열[행, 열] \n",
    "    \n",
    "- 특정 행 조회 : 배열[[행1,행2,..], :], 배열[[행1,행2,..]] \n",
    "    \n",
    "- 특정 열 조회 : 배열[:, [열1,열2,...]] \n",
    "\n",
    "- 특정 행의 특정 열을 조회 : 배열[[행1,행2,...], [열1,열2,...]]\n",
    "\n",
    "    \n",
    "**(6)-2. 슬라이싱**\n",
    "- 배열[행1:행N, 열1:열N] 형태로 지정해 그 위치의 요소 조회\n",
    "- 조회 결과는 2차원 배열\n",
    "- 마지막 범위 값은 대상에 포함 X \n",
    "    ->배열[1:M, 2:N]이라면 1 ~ M-1행, 2 ~ N-1열이 조회 대상\n",
    "\n",
    "**(7) 조건 조회**\n",
    "- 조건에 맞는 요소를 선택하는 방식, 불리안 방식이라고 부름\n",
    "-> print(score[score >= 90]) # 요소 중에서 90 이상인 것만 조회\n",
    "- 조회 결과는 1차원 배열\n",
    "\n",
    "**(8) 배열 연산**\n",
    "- <배열의 사칙연산>\n",
    "    1) \\+ 또는 np.add() : 더하기\n",
    "    2) \\- 또는 np.subtract() : 빼기\n",
    "    3) \\* 또는 np.multiply() : 곱하기\n",
    "    4) / 또는 np.divide() : 나누기\n",
    "    5) ** 또는 np.power() : 지수 연산\n",
    "\n",
    "**(9) 배열 집계**\n",
    "- **np.sum()**\n",
    "- **array.sum()**\n",
    "    - axis = 0 : 열 기준 집계\n",
    "    - axis = 1 : 행 기준 집계\n",
    "    - 생략하면 : 전체 집계\n",
    "- 동일한 형태로 사용 가능한 함수 : np.max(), np.min, np.mean(), np.std()\n",
    "\n",
    "**(10) 자주 사용되는 함수들**\n",
    "- **np.argmax()**\n",
    "    - ex) np.argmax(a) : 전체에서 최대값의 인덱스\n",
    "    - ex) np.argmax(a, axis=0) : 행 방향 최대값의 인덱스\n",
    "    - ex) np.argmax(a, axis=1) : 열 방향 최대값의 인덱스\n",
    "- **np.argmin()**\n",
    "    - axis = 0 : 열 기준 집계\n",
    "    - axis = 1 : 행 기준 집계\n",
    "    - 생략하면 : 전체 집계\n",
    "- 동일한 형태로 사용 가능한 함수 : np.max(), np.min, np.mean(), np.std()\n",
    "\n",
    "- **np.where(조건문, True일 때 값, False일 때 값)**"
   ]
  },
  {
   "cell_type": "code",
   "execution_count": 1,
   "id": "2c424546-b6b4-41f3-a0db-9fb214a4f361",
   "metadata": {
    "tags": []
   },
   "outputs": [],
   "source": [
    "# 라이브러리 불러오기\n",
    "import numpy as np"
   ]
  },
  {
   "cell_type": "code",
   "execution_count": 2,
   "id": "46ac2fed-8753-43bd-aaf5-440ef7ff7df2",
   "metadata": {
    "tags": []
   },
   "outputs": [
    {
     "name": "stdout",
     "output_type": "stream",
     "text": [
      "[1 2 3 4 5]\n",
      "[[1.5 2.5 3.2]\n",
      " [4.2 5.7 6.4]]\n",
      "[[[1 3 1]\n",
      "  [4 7 6]\n",
      "  [8 3 4]]\n",
      "\n",
      " [[6 2 4]\n",
      "  [8 1 5]\n",
      "  [3 5 9]]]\n"
     ]
    }
   ],
   "source": [
    "# 1차원 배열 생성\n",
    "\n",
    "# 1차원 리스트\n",
    "a1 = [1, 2, 3, 4, 5]\n",
    "\n",
    "# 2차원 리스트 \n",
    "a2 = [[1.5, 2.5, 3.2], \n",
    "      [4.2, 5.7, 6.4]]\n",
    "\n",
    "a3 = [[[1, 3, 1],\n",
    "       [4, 7, 6],\n",
    "       [8, 3, 4]],\n",
    "      [[6, 2, 4],  \n",
    "       [8, 1, 5],\n",
    "       [3, 5, 9]]]\n",
    "#------------------------------------------------------\n",
    "# 배열로 변환\n",
    "b1 = np.array(a1)\n",
    "b2 = np.array(a2)\n",
    "b3 = np.array(a3)\n",
    "\n",
    "# 확인\n",
    "print(b1)\n",
    "print(b2)\n",
    "print(b3)"
   ]
  },
  {
   "cell_type": "code",
   "execution_count": 3,
   "id": "cd55dab9-a5df-4f2e-b362-1c0da5ca1cc0",
   "metadata": {
    "tags": []
   },
   "outputs": [
    {
     "name": "stdout",
     "output_type": "stream",
     "text": [
      "1\n",
      "2\n",
      "3\n"
     ]
    }
   ],
   "source": [
    "# 차원 확인\n",
    "print(b1.ndim)\n",
    "print(b2.ndim)\n",
    "print(b3.ndim)"
   ]
  },
  {
   "cell_type": "code",
   "execution_count": 4,
   "id": "0c38a6f6-24a4-4543-aae8-16c976427649",
   "metadata": {
    "tags": []
   },
   "outputs": [
    {
     "name": "stdout",
     "output_type": "stream",
     "text": [
      "int32\n",
      "float64\n",
      "int32\n"
     ]
    }
   ],
   "source": [
    "# 요소 자료형 형식 확인\n",
    "print(b1.dtype)\n",
    "print(b2.dtype)\n",
    "print(b3.dtype)"
   ]
  },
  {
   "cell_type": "code",
   "execution_count": 5,
   "id": "06c4957b-3fd6-4507-b665-a2d842892bb6",
   "metadata": {
    "tags": []
   },
   "outputs": [
    {
     "name": "stdout",
     "output_type": "stream",
     "text": [
      "[[11 22 33]\n",
      " [44 55 66]]\n",
      "[[11 22]\n",
      " [33 44]\n",
      " [55 66]]\n",
      "[11 22 33 44 55 66]\n",
      "[[11 22 33 44 55 66]]\n",
      "\n",
      "[[11 22 33]\n",
      " [44 55 66]]\n",
      "\n",
      "[[11 22]\n",
      " [33 44]\n",
      " [55 66]]\n",
      "\n",
      "[[11]\n",
      " [22]\n",
      " [33]\n",
      " [44]\n",
      " [55]\n",
      " [66]]\n"
     ]
    }
   ],
   "source": [
    "# (2, 3) 형태의 2차원 배열\n",
    "a = np.array([[11, 22, 33], \n",
    "              [44, 55, 66]])\n",
    "\n",
    "print(a)\n",
    "\n",
    "# -> (3, 2) 형태의 2차원 배열로 Reshape----------------\n",
    "b = a.reshape(3, 2)\n",
    "\n",
    "print(b)\n",
    "\n",
    "# 1차원 배열로 Reshape--------------------------------\n",
    "# c = a.reshape(6,)\n",
    "c = a.reshape(6)\n",
    "\n",
    "print(c)\n",
    "\n",
    "# reshape(m, -1) 형태로 지정하여 Reshape 가능----------\n",
    "print(a.reshape(1, -1))\n",
    "print()\n",
    "\n",
    "print(a.reshape(2, -1))\n",
    "print()\n",
    "\n",
    "print(a.reshape(3, -1))\n",
    "print()\n",
    "\n",
    "print(a.reshape(6, -1))"
   ]
  },
  {
   "cell_type": "code",
   "execution_count": 6,
   "id": "7ebf449b-5c48-49d9-aea7-617e5798bd39",
   "metadata": {
    "tags": []
   },
   "outputs": [
    {
     "name": "stdout",
     "output_type": "stream",
     "text": [
      "[[1 2 3]\n",
      " [4 5 6]\n",
      " [7 8 9]]\n",
      "2\n",
      "[[1 2 3]\n",
      " [4 5 6]]\n",
      "[[4 5 6]\n",
      " [7 8 9]]\n",
      "[[1 2]\n",
      " [4 5]\n",
      " [7 8]]\n",
      "[2 5]\n",
      "[1 6]\n"
     ]
    }
   ],
   "source": [
    "# 배열 인덱싱---------------------------------------\n",
    "a = np.array([[1, 2, 3],\n",
    "              [4, 5, 6], \n",
    "              [7, 8, 9]])\n",
    "print(a)\n",
    "\n",
    "a[[0],[1]]\n",
    "\n",
    "# 특정 위치의 요소 조회 : a[첫 번째 행, 두 번째 열] 요소 조회\n",
    "print(a[0, 1])\n",
    "\n",
    "# 특정 행 조회 : 배열[[행1,행2,..], :], 배열[[행1,행2,..]]\n",
    "print(a[[0, 1], :])\n",
    "print(a[[1,2]])\n",
    "\n",
    "# 특정 열 조회 : 배열[:, [열1,열2,...]]\n",
    "print(a[:, [0,1]])\n",
    "\n",
    "# 특정 행의 특정 열을 조회 : 배열[[행1,행2,...], [열1,열2,...]]\n",
    "print(a[[0,1],[1]]) # [2, 5] 반환\n",
    "print(a[[0,1],[0,2]]) #[1, 6] 반환"
   ]
  },
  {
   "cell_type": "code",
   "execution_count": 7,
   "id": "0e306eff-048e-4127-9021-625658ff9441",
   "metadata": {
    "tags": []
   },
   "outputs": [
    {
     "name": "stdout",
     "output_type": "stream",
     "text": [
      "[[11 22 33]\n",
      " [44 55 66]]\n",
      "[11 22]\n",
      "[[22 33]\n",
      " [55 66]\n",
      " [88 99]]\n",
      "[[55 66]\n",
      " [88 99]]\n"
     ]
    }
   ],
   "source": [
    "# 슬라이싱-------------------------------------------------\n",
    "# 배열[행1:행N,열1:열N]\n",
    "# 마지막 범위 값은 대상에 포함되지 않음!\n",
    "\n",
    "a = np.array([[11, 22, 33],\n",
    "              [44, 55, 66], \n",
    "              [77, 88, 99]])\n",
    "\n",
    "# 첫 번째 ~ 두 번째 행 조회\n",
    "# print(a[0:2, :])\n",
    "print(a[0:2])\n",
    "\n",
    "# 첫 번째 행, 첫 번째 ~ 두 번째 열 조회\n",
    "print(a[0, 0:2])\n",
    "\n",
    "# 첫 번째 ~ 세 번째 행, 두 번째 ~ 세 번째 열 조회\n",
    "print(a[0:3, 1:3])\n",
    "\n",
    "# 두 번째 ~ 끝 행, 두 번째 ~ 끝 열 조회\n",
    "print(a[1:, 1:])"
   ]
  },
  {
   "cell_type": "code",
   "execution_count": 8,
   "id": "108ab24c-a0eb-4255-b9e9-1aeeafd01e02",
   "metadata": {
    "tags": []
   },
   "outputs": [
    {
     "name": "stdout",
     "output_type": "stream",
     "text": [
      "[75 90 84 88 65 82 87 96 52 91 73]\n",
      "[75 90 84 88 65 82 87 96 52 91 73]\n",
      "[52]\n"
     ]
    }
   ],
   "source": [
    "#조건 조회------------------------------\n",
    "score = np.array([[75, 90, 84, 88, 46, 65],\n",
    "                 [82, 87, 96, 52, 91, 73]])\n",
    "\n",
    "# 요소 중에서 50 이상인 것만 조회\n",
    "print(score[score >= 50])\n",
    "\n",
    "# 검색 조건을 변수로 선언해서 사용\n",
    "condition = score >= 50\n",
    "print(score[condition])\n",
    "\n",
    "# 모든 요소 중에서 50 이상 55 미만인 것만 조회\n",
    "print(score[(score >= 50) & (score <= 55)])"
   ]
  },
  {
   "cell_type": "code",
   "execution_count": 9,
   "id": "902331c9-3a6d-4a93-b2e5-773c6e0b31f8",
   "metadata": {
    "tags": []
   },
   "outputs": [
    {
     "name": "stdout",
     "output_type": "stream",
     "text": [
      "[[ 66  88]\n",
      " [110 132]]\n",
      "[[ 66  88]\n",
      " [110 132]]\n",
      "[[-44 -44]\n",
      " [-44 -44]]\n",
      "[[-44 -44]\n",
      " [-44 -44]]\n",
      "[[ 605 1452]\n",
      " [2541 3872]]\n",
      "[[ 605 1452]\n",
      " [2541 3872]]\n",
      "[[0.2        0.33333333]\n",
      " [0.42857143 0.5       ]]\n",
      "[[0.2        0.33333333]\n",
      " [0.42857143 0.5       ]]\n",
      "[[2138032771          0]\n",
      " [-524500575          0]]\n",
      "[[2138032771          0]\n",
      " [-524500575          0]]\n",
      "[[ 121  484]\n",
      " [1089 1936]]\n"
     ]
    }
   ],
   "source": [
    "# 배열의 사칙연산\n",
    "\n",
    "x = np.array([[11, 22], [33, 44]])\n",
    "y = np.array([[55, 66], [77, 88]])\n",
    "\n",
    "# 배열 더하기\n",
    "print(x + y)\n",
    "print(np.add(x, y))\n",
    "\n",
    "# 배열 빼기\n",
    "print(x - y)\n",
    "print(np.subtract(x, y))\n",
    "\n",
    "# 배열 곱하기\n",
    "print(x * y)\n",
    "print(np.multiply(x, y))\n",
    "\n",
    "# 배열 나누기\n",
    "print(x / y)\n",
    "print(np.divide(x, y))\n",
    "\n",
    "# 배열 y 제곱\n",
    "print(x ** y)\n",
    "print(np.power(x, y))\n",
    "\n",
    "# 배열 제곱\n",
    "print(x ** 2)"
   ]
  },
  {
   "cell_type": "code",
   "execution_count": 10,
   "id": "c697ccaf-bdbc-4619-a4e6-c92d7d819f6e",
   "metadata": {
    "tags": []
   },
   "outputs": [
    {
     "name": "stdout",
     "output_type": "stream",
     "text": [
      "[[10 50 70]\n",
      " [20 30 80]]\n",
      "260\n",
      "[ 30  80 150]\n",
      "[130 130]\n"
     ]
    }
   ],
   "source": [
    "# 배열 집계 ---------------------------\n",
    "a = np.array([[10,50,70],[20,30,80]])\n",
    "print(a)\n",
    "\n",
    "# 전체 집계\n",
    "print(np.sum(a))\n",
    "\n",
    "# 열기준 집계\n",
    "print(np.sum(a, axis = 0))\n",
    "\n",
    "# 행기준 집계\n",
    "print(np.sum(a, axis = 1))"
   ]
  },
  {
   "cell_type": "code",
   "execution_count": 11,
   "id": "a32dcfff-6402-43e8-8292-ac660d79fabf",
   "metadata": {
    "tags": []
   },
   "outputs": [
    {
     "name": "stdout",
     "output_type": "stream",
     "text": [
      "[[11 55 77]\n",
      " [22 33 88]]\n",
      "5\n",
      "[1 0 1]\n",
      "[2 2]\n"
     ]
    }
   ],
   "source": [
    "# np.argmax(), np.argmin()\n",
    "a = np.array([[11,55,77],[22,33,88]])\n",
    "print(a)\n",
    "\n",
    "# 전체 중에서 가장 큰 값의 인덱스\n",
    "print(np.argmax(a))\n",
    "\n",
    "# 행 방향 최대값의 인덱스\n",
    "print(np.argmax(a, axis = 0))\n",
    "\n",
    "# 열 방향 최대값의 인덱스\n",
    "print(np.argmax(a, axis = 1))"
   ]
  },
  {
   "cell_type": "code",
   "execution_count": 12,
   "id": "99ff9ff8-7151-468b-9847-e3ef9553feab",
   "metadata": {
    "tags": []
   },
   "outputs": [
    {
     "name": "stdout",
     "output_type": "stream",
     "text": [
      "['90보다 작다' '90보다 작다' '90보다 작다' '90보다 크다']\n",
      "[0 0 0 1]\n"
     ]
    }
   ],
   "source": [
    "# np.where(조건문, True일때 값, False일 때 값)\n",
    "a = np.array([1,3,2,99])\n",
    "\n",
    "# 조건\n",
    "print(np.where(a > 90, '90보다 크다', '90보다 작다'))\n",
    "print(np.where(a > 90, 1, 0))"
   ]
  }
 ],
 "metadata": {
  "kernelspec": {
   "display_name": "Python 3 (ipykernel)",
   "language": "python",
   "name": "python3"
  },
  "language_info": {
   "codemirror_mode": {
    "name": "ipython",
    "version": 3
   },
   "file_extension": ".py",
   "mimetype": "text/x-python",
   "name": "python",
   "nbconvert_exporter": "python",
   "pygments_lexer": "ipython3",
   "version": "3.10.9"
  }
 },
 "nbformat": 4,
 "nbformat_minor": 5
}
