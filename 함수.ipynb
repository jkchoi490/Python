{
 "cells": [
  {
   "cell_type": "markdown",
   "id": "e969ef4f-0cbd-4e94-a7a2-c0db42595a5e",
   "metadata": {},
   "source": [
    "# **함수 생성 및 활용**"
   ]
  },
  {
   "cell_type": "markdown",
   "id": "c954dee9-5d31-40d8-ade6-061984133cb0",
   "metadata": {},
   "source": [
    "![](https://upload.wikimedia.org/wikipedia/commons/thumb/3/3b/Function_machine2.svg/220px-Function_machine2.svg.png)"
   ]
  },
  {
   "cell_type": "markdown",
   "id": "37f67e7c-ee14-424a-991e-c6c5c60e7555",
   "metadata": {},
   "source": [
    "### **1. input(입력 매개변수)**\n",
    "1. 그냥 만들기\n",
    "2. 여러 개의 입력매개변수 사용하기\n",
    "3. *입력매개변수 <br>\n",
    "    -> 입력값의 갯수를 제한하지 않고 받고자 할 때 사용<br>\n",
    "    -> 입력된 데이터 타입은 tuple"
   ]
  },
  {
   "cell_type": "markdown",
   "id": "8ca4d515-3524-4b2d-b321-40eb015c1200",
   "metadata": {},
   "source": [
    "### **2. output**\n",
    "\n",
    "* 함수의 결과를 출력하는 방법 두가지\n",
    "    * print : 화면에 출력만 수행한다\n",
    "    * return : 화면 출력 + 함수 외부로 결과 반환(진짜 output)\n",
    "        * 결과를 별도 변수에 저장하면, 화면 출력은 생략됨\n",
    "        * 함수는 return을 만나면 종료됨\n",
    "* 여러 개 output\n",
    "    * print : 화면에 출력만 수행"
   ]
  },
  {
   "cell_type": "markdown",
   "id": "a511f2b5-836c-4b4b-a0be-d0d5ce065e81",
   "metadata": {},
   "source": [
    "### **3.예외처리**\n",
    "#### **(1) 입력값에 대한 예외 처리 필요**\n",
    "    - 입력값의 타입에 대한 확인 필요(정수 : int, 실수 : float, 문자열 : str, 리스트 : list, 딕셔너리 : dict)\n",
    "    \n",
    "#### **(2) 오류에 대한 일반 처리(try, except)**\n",
    "\n",
    "* try :\n",
    "    * 오류를 감지하고자 하는 코드 블럭\n",
    "* except :\n",
    "    * 발생된 오류를 처리\n",
    "\n",
    "**1) 특정 오류 처리**<br> \n",
    "    try: \n",
    "    <br>\n",
    "    <br>\n",
    "    except 에러이름Error:\n",
    "        \n",
    "**2) 오류 전체 처리**<br> \n",
    "    try: \n",
    "    <br>\n",
    "    <br>\n",
    "    except Exception as e:\n"
   ]
  },
  {
   "cell_type": "code",
   "execution_count": 1,
   "id": "5546b1cf-5762-4f2d-a913-e1408dde969d",
   "metadata": {
    "tags": []
   },
   "outputs": [
    {
     "name": "stdout",
     "output_type": "stream",
     "text": [
      "Hello, World!\n"
     ]
    }
   ],
   "source": [
    "# 1. input(입력 매개변수)\n",
    "def hello_world() :\n",
    "    print('Hello, World!')\n",
    "    \n",
    "hello_world()"
   ]
  },
  {
   "cell_type": "code",
   "execution_count": 2,
   "id": "b7979cc2-c3e8-4158-82f6-9acb4969f64a",
   "metadata": {
    "tags": []
   },
   "outputs": [
    {
     "name": "stdout",
     "output_type": "stream",
     "text": [
      "연필을 여러개 구입했습니다\n",
      "연필을 1개 구입했습니다\n",
      "연필을 1개 구입했습니다\n",
      "연필을 여러개 구입했습니다\n",
      "연필을 여러개 구입했습니다\n"
     ]
    }
   ],
   "source": [
    "# 2. 여러 개의 입력매개변수 사용하기\n",
    "def buy(product, cnt = 1) :\n",
    "    if cnt == 1 :\n",
    "        print(product + '을 1개 구입했습니다')\n",
    "    else :\n",
    "        print(product + '을 여러개 구입했습니다')\n",
    "\n",
    "buy(product = '연필', cnt = 0) # 매개변수 이름과 입력값\n",
    "buy(product = '연필')           # 기본값 지정 매개변수 생략\n",
    "buy('연필')                  # 기본값 지정 매개변수 생략\n",
    "buy('연필',0)                # 입력매개변수 이름 생략\n",
    "buy(cnt = 0, product = '연필') # 입력값 순서 바꾸기"
   ]
  },
  {
   "cell_type": "code",
   "execution_count": 5,
   "id": "80a44dfc-81cd-4a8b-a157-7c72655cea07",
   "metadata": {
    "tags": []
   },
   "outputs": [
    {
     "name": "stdout",
     "output_type": "stream",
     "text": [
      "(1, 2, 3) <class 'tuple'>\n",
      "(2, 4, 6, 8, 10) <class 'tuple'>\n"
     ]
    }
   ],
   "source": [
    "# *입력매개변수\n",
    "def numbers1(*nums) : # * -> 주는대로 입력받겠다\n",
    "    print(nums, type(nums))\n",
    "    \n",
    "numbers1(1, 2, 3)\n",
    "numbers1(2, 4, 6, 8, 10) # 튜플"
   ]
  },
  {
   "cell_type": "markdown",
   "id": "8dd9de45-362e-45bb-af44-91ad91343b85",
   "metadata": {
    "tags": []
   },
   "source": [
    "---------------------------------"
   ]
  },
  {
   "cell_type": "code",
   "execution_count": 6,
   "id": "6ec46c25-4fa5-40f5-bea8-bc6e1961e2d8",
   "metadata": {
    "tags": []
   },
   "outputs": [
    {
     "data": {
      "text/plain": [
       "(100, 99, 98)"
      ]
     },
     "execution_count": 6,
     "metadata": {},
     "output_type": "execute_result"
    }
   ],
   "source": [
    "def numbers2(*nums) : \n",
    "    return nums\n",
    "\n",
    "numbers2(100, 99, 98)"
   ]
  },
  {
   "cell_type": "code",
   "execution_count": 7,
   "id": "0bd5741e-232c-4d93-a9e0-7b95f723fd40",
   "metadata": {
    "tags": []
   },
   "outputs": [
    {
     "name": "stdout",
     "output_type": "stream",
     "text": [
      "(1, 2, 3) <class 'tuple'>\n",
      "None\n"
     ]
    }
   ],
   "source": [
    "# 함수 출력 : print\n",
    "a1 = numbers1(1, 2, 3)\n",
    "print(a1)"
   ]
  },
  {
   "cell_type": "code",
   "execution_count": 8,
   "id": "0b7029c8-8316-46ab-94f9-0ece34a6258c",
   "metadata": {
    "tags": []
   },
   "outputs": [
    {
     "name": "stdout",
     "output_type": "stream",
     "text": [
      "(100, 102, 103)\n"
     ]
    }
   ],
   "source": [
    "# 함수 출력 : return\n",
    "a2 = numbers2(100, 102, 103)\n",
    "print(a2)"
   ]
  },
  {
   "cell_type": "markdown",
   "id": "0987a9ba-65e2-41b1-845f-fad7b791b41f",
   "metadata": {},
   "source": [
    "-----------------------------------"
   ]
  },
  {
   "cell_type": "code",
   "execution_count": 9,
   "id": "009b92b3-0816-4570-aeef-780bb09b62bc",
   "metadata": {
    "tags": []
   },
   "outputs": [
    {
     "name": "stdout",
     "output_type": "stream",
     "text": [
      "12 35\n"
     ]
    }
   ],
   "source": [
    "def calculate(a, b) :\n",
    "    sum_result = a + b\n",
    "    mult_result = a * b\n",
    "    return sum_result, mult_result\n",
    "\n",
    "r1, r2 = calculate(5, 7)\n",
    "print(r1, r2)\n",
    "\n",
    "# 결과값 둘 중 하나만 필요한 경우\n",
    "r1, _ = calculate(10, 5)"
   ]
  },
  {
   "cell_type": "markdown",
   "id": "42e02deb-f0ee-4bf6-9fa3-729b06139dc5",
   "metadata": {},
   "source": [
    "-------------------------------------------"
   ]
  },
  {
   "cell_type": "code",
   "execution_count": 10,
   "id": "6cce3511-c169-43c0-bb5a-3053d5287a79",
   "metadata": {
    "tags": []
   },
   "outputs": [
    {
     "ename": "ZeroDivisionError",
     "evalue": "division by zero",
     "output_type": "error",
     "traceback": [
      "\u001b[1;31m---------------------------------------------------------------------------\u001b[0m",
      "\u001b[1;31mZeroDivisionError\u001b[0m                         Traceback (most recent call last)",
      "Cell \u001b[1;32mIn[10], line 5\u001b[0m\n\u001b[0;32m      2\u001b[0m     result \u001b[38;5;241m=\u001b[39m a \u001b[38;5;241m/\u001b[39m b\n\u001b[0;32m      3\u001b[0m     \u001b[38;5;28;01mreturn\u001b[39;00m result\n\u001b[1;32m----> 5\u001b[0m \u001b[43mdivide\u001b[49m\u001b[43m(\u001b[49m\u001b[38;5;241;43m10\u001b[39;49m\u001b[43m,\u001b[49m\u001b[43m \u001b[49m\u001b[38;5;241;43m0\u001b[39;49m\u001b[43m)\u001b[49m\n",
      "Cell \u001b[1;32mIn[10], line 2\u001b[0m, in \u001b[0;36mdivide\u001b[1;34m(a, b)\u001b[0m\n\u001b[0;32m      1\u001b[0m \u001b[38;5;28;01mdef\u001b[39;00m \u001b[38;5;21mdivide\u001b[39m(a, b) : \u001b[38;5;66;03m#세션\u001b[39;00m\n\u001b[1;32m----> 2\u001b[0m     result \u001b[38;5;241m=\u001b[39m \u001b[43ma\u001b[49m\u001b[43m \u001b[49m\u001b[38;5;241;43m/\u001b[39;49m\u001b[43m \u001b[49m\u001b[43mb\u001b[49m\n\u001b[0;32m      3\u001b[0m     \u001b[38;5;28;01mreturn\u001b[39;00m result\n",
      "\u001b[1;31mZeroDivisionError\u001b[0m: division by zero"
     ]
    }
   ],
   "source": [
    "def divide(a, b) : #세션\n",
    "    result = a / b\n",
    "    return result\n",
    "\n",
    "divide(10, 0)"
   ]
  },
  {
   "cell_type": "code",
   "execution_count": 11,
   "id": "18c4b8ca-3d5f-4a7c-b2b9-918eab26ee5d",
   "metadata": {
    "tags": []
   },
   "outputs": [
    {
     "name": "stdout",
     "output_type": "stream",
     "text": [
      "나누는 값이 0이 될 수 없음\n"
     ]
    }
   ],
   "source": [
    "# 입력값에 대한 예외 처리 \n",
    "def divide(a, b) :\n",
    "    if b == 0 :\n",
    "        print('나누는 값이 0이 될 수 없음')\n",
    "    else: \n",
    "        result = a / b\n",
    "        return result\n",
    "\n",
    "divide(10, 0)"
   ]
  },
  {
   "cell_type": "code",
   "execution_count": 12,
   "id": "acd38445-9c5b-4e37-abbb-db5f7b4e227e",
   "metadata": {
    "tags": []
   },
   "outputs": [
    {
     "data": {
      "text/plain": [
       "True"
      ]
     },
     "execution_count": 12,
     "metadata": {},
     "output_type": "execute_result"
    }
   ],
   "source": [
    "# 입력값의 타입에 대한 확인\n",
    "a = 1\n",
    "type(a) == int # type(a) is int"
   ]
  },
  {
   "cell_type": "code",
   "execution_count": 13,
   "id": "adc07679-7ef5-4365-97b4-bbd77ddc1d67",
   "metadata": {
    "tags": []
   },
   "outputs": [
    {
     "data": {
      "text/plain": [
       "True"
      ]
     },
     "execution_count": 13,
     "metadata": {},
     "output_type": "execute_result"
    }
   ],
   "source": [
    "b = [1,2,3]\n",
    "type(b) == list"
   ]
  },
  {
   "cell_type": "code",
   "execution_count": 14,
   "id": "add20f90-f8c9-46a7-b216-7a1713138922",
   "metadata": {
    "tags": []
   },
   "outputs": [
    {
     "data": {
      "text/plain": [
       "True"
      ]
     },
     "execution_count": 14,
     "metadata": {},
     "output_type": "execute_result"
    }
   ],
   "source": [
    "c = {'a':100, 'b': [1,2,3]}\n",
    "type(c) == dict"
   ]
  },
  {
   "cell_type": "markdown",
   "id": "53fa7de4-95d2-43a1-b8c2-bba0c3081d89",
   "metadata": {},
   "source": [
    "---------------------------------------"
   ]
  },
  {
   "cell_type": "code",
   "execution_count": 15,
   "id": "82c01b22-5584-4a93-a9d9-188dab0accd4",
   "metadata": {
    "tags": []
   },
   "outputs": [
    {
     "name": "stdout",
     "output_type": "stream",
     "text": [
      "정수로 변환할 수 없는 문자열입니다.\n"
     ]
    }
   ],
   "source": [
    "# 특정 오류\n",
    "try:\n",
    "    num_str = \"가나다라\"\n",
    "    num = int(num_str)\n",
    "    \n",
    "except ValueError:\n",
    "    print(\"정수로 변환할 수 없는 문자열입니다.\")"
   ]
  },
  {
   "cell_type": "code",
   "execution_count": 16,
   "id": "ac5fdc5f-e61f-409c-8eb3-a70a4c17b8ee",
   "metadata": {
    "tags": []
   },
   "outputs": [
    {
     "name": "stdout",
     "output_type": "stream",
     "text": [
      "0으로 나눌수 없습니다.\n"
     ]
    }
   ],
   "source": [
    "def divide(a, b) :\n",
    "    try :\n",
    "        result = a / b\n",
    "        return result\n",
    "    \n",
    "    except ZeroDivisionError:\n",
    "        print(\"0으로 나눌수 없습니다.\")\n",
    "        \n",
    "divide(100, 0)"
   ]
  },
  {
   "cell_type": "markdown",
   "id": "ab7a0f9b-0249-406e-b3a2-e48171fa81ce",
   "metadata": {},
   "source": [
    "---------------------------------------"
   ]
  },
  {
   "cell_type": "code",
   "execution_count": 17,
   "id": "948ae4ce-4c44-4d80-b119-435b7dbd6a60",
   "metadata": {
    "tags": []
   },
   "outputs": [
    {
     "name": "stdout",
     "output_type": "stream",
     "text": [
      "오류가 발생하였습니다: division by zero\n"
     ]
    }
   ],
   "source": [
    "# 오류 전체\n",
    "def divide(a, b) :\n",
    "    try :\n",
    "        result = a / b\n",
    "        return result\n",
    "    \n",
    "    except Exception as e:\n",
    "        print(\"오류가 발생하였습니다:\", e)\n",
    "        \n",
    "divide(100, 0)"
   ]
  }
 ],
 "metadata": {
  "kernelspec": {
   "display_name": "Python 3 (ipykernel)",
   "language": "python",
   "name": "python3"
  },
  "language_info": {
   "codemirror_mode": {
    "name": "ipython",
    "version": 3
   },
   "file_extension": ".py",
   "mimetype": "text/x-python",
   "name": "python",
   "nbconvert_exporter": "python",
   "pygments_lexer": "ipython3",
   "version": "3.10.9"
  }
 },
 "nbformat": 4,
 "nbformat_minor": 5
}
